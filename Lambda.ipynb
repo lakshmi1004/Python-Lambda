{
 "cells": [
  {
   "cell_type": "code",
   "execution_count": null,
   "metadata": {},
   "outputs": [],
   "source": [
    "#Lambda Syntax: \n",
    "# #lambda parameter1, parameter2 or more:e one expressions\n",
    "#IIFE\n",
    "# filter()\n",
    "#sorted()\n",
    "# map()\n",
    "#reduce()\n"
   ]
  },
  {
   "cell_type": "code",
   "execution_count": 1,
   "metadata": {},
   "outputs": [
    {
     "name": "stdout",
     "output_type": "stream",
     "text": [
      "3\n"
     ]
    }
   ],
   "source": [
    "adder = lambda x, y: x + y\n",
    "print (adder (1, 2))"
   ]
  },
  {
   "cell_type": "code",
   "execution_count": null,
   "metadata": {},
   "outputs": [],
   "source": [
    "string='some kind of a useless lambda'\n",
    "print(lambda string : print(string))\n",
    "#But why doesn’t the program print the string we pass? This is because the lambda itself returns a function object. \n",
    "# In this example, the lambda is not being called by the print function but simply returning the function object and the memory location where it is stored. \n",
    "# That’s what gets printed at the console."
   ]
  },
  {
   "cell_type": "code",
   "execution_count": null,
   "metadata": {},
   "outputs": [],
   "source": [
    "#IIFE stands for immediately invoked function execution. It means that a lambda function is callable as soon as it is defined.\n",
    "x=\"some kind of a useless lambda\"\n",
    "(lambda x : print(x))(x)\n",
    "\n",
    "(lambda y :print(y))(2)"
   ]
  },
  {
   "cell_type": "code",
   "execution_count": null,
   "metadata": {},
   "outputs": [],
   "source": [
    "def guru( funct, *args ):\n",
    "    funct( *args )\n",
    "def printer_one( arg ):\n",
    "    return print (arg)\n",
    "def printer_two( arg ):\n",
    "    print(arg)\n",
    "#CALL A REGULAR FUNCTION \n",
    "guru( printer_one, 'printer 1 REGULAR CALL' )\n",
    "guru( printer_two, 'printer 2 REGULAR CALL \\n' )\n",
    "#CALL A REGULAR FUNCTION THRU A LAMBDA\n",
    "guru(lambda: printer_one('printer 1 LAMBDA CALL'))\n",
    "guru(lambda: printer_two('printer 2 LAMBDA CALL'))\n",
    "#Code Explanation\n",
    "\n",
    "    #A function called guru that takes another function as the first parameter and any other arguments following it.\n",
    "    #printer_one is a simple function which prints the parameter passed to it and returns it.\n",
    "    #printer_two is similar to printer_one but without the return statement.\n",
    "    #In this part, we are calling the guru function and passing the printer functions and a string as parameters.\n",
    "    #This is the syntax to achieve the fourth step (i.e., calling the guru function) but using lambdas.\n"
   ]
  },
  {
   "cell_type": "code",
   "execution_count": 10,
   "metadata": {},
   "outputs": [
    {
     "name": "stdout",
     "output_type": "stream",
     "text": [
      "[45, 50, 60]\n"
     ]
    }
   ],
   "source": [
    "#lambdas in filter() - The filter function is used to select some particular elements from a sequence of elements. \n",
    "# The sequence can be any iterator like lists, sets, tuples, etc.\n",
    "\n",
    "\n",
    "seq = [10,2,5,6,8,45,50,60,20]\n",
    "filter_seq = filter(lambda seq: seq>40, seq) #lambda seq:seq>40, seq is avariable can be given as x or y..\n",
    "print(list(filter_seq))"
   ]
  },
  {
   "cell_type": "code",
   "execution_count": 2,
   "metadata": {},
   "outputs": [
    {
     "name": "stdout",
     "output_type": "stream",
     "text": [
      "[20, 4, 10, 12, 16, 90, 100, 120, 40]\n"
     ]
    }
   ],
   "source": [
    "#lambdas in map() - the map function is used to apply a particular operation to every element in a sequence.\n",
    "#  Like filter(), it also takes 2 parameters:\n",
    "\n",
    "   # A function that defines the op to perform on the elements\n",
    "   # One or more sequences\n",
    "\n",
    "seq = [10,2,5,6,8,45,50,60,20]\n",
    "filter_seq = map(lambda x: x + x, seq) \n",
    "print(list(filter_seq))"
   ]
  },
  {
   "cell_type": "code",
   "execution_count": 16,
   "metadata": {},
   "outputs": [
    {
     "name": "stdout",
     "output_type": "stream",
     "text": [
      "120\n"
     ]
    }
   ],
   "source": [
    "#lambdas in reduce()\n",
    "\n",
    "from functools import reduce\n",
    "sequences = [1,2,3,4,5]\n",
    "product = reduce (lambda x, y: x*y, sequences)\n",
    "print(product)"
   ]
  },
  {
   "cell_type": "code",
   "execution_count": null,
   "metadata": {},
   "outputs": [],
   "source": [
    "#sort()\n",
    "got = [('Caitlyn', 'Tully'), ('Arya', 'Stark'), ('Bran', 'Stark'), ('Arya', 'Baratheon'), ('Jon', 'Snow'), ('Jon', 'Targaryen')]\n",
    "\n",
    "sorted(got) # Sort by the given name, and in case it is the same, sort by last name\n",
    "\n",
    "#*What* if we want to sort them by last names?\n",
    "#for element in got:\n",
    "    #print(element[1])\n",
    "sorted(got, key=lambda x: x[1])"
   ]
  },
  {
   "cell_type": "code",
   "execution_count": 1,
   "metadata": {},
   "outputs": [
    {
     "data": {
      "text/plain": [
       "['arya', 'julia', 'ramya']"
      ]
     },
     "execution_count": 1,
     "metadata": {},
     "output_type": "execute_result"
    }
   ],
   "source": [
    "sorted(('ramya','arya','julia'))"
   ]
  },
  {
   "cell_type": "code",
   "execution_count": 10,
   "metadata": {},
   "outputs": [
    {
     "name": "stdout",
     "output_type": "stream",
     "text": [
      "[2, 6, 7, 9]\n"
     ]
    }
   ],
   "source": [
    "fun = lambda x, y: x + y\n",
    "print(list(map(fun, (1, 3, 3, 4), (1, 3, 4,5))))"
   ]
  },
  {
   "cell_type": "code",
   "execution_count": 11,
   "metadata": {},
   "outputs": [
    {
     "data": {
      "text/plain": [
       "(1, 2, 3, 1, 2, 3)"
      ]
     },
     "execution_count": 11,
     "metadata": {},
     "output_type": "execute_result"
    }
   ],
   "source": [
    "(1,2,3) + (1,2,3)"
   ]
  }
 ],
 "metadata": {
  "interpreter": {
   "hash": "39d388ca1b04e1a174574da37708eb359a2bcdc8ec40a682dcfb85d2b414fb91"
  },
  "kernelspec": {
   "display_name": "Python 3.9.7 ('p1')",
   "language": "python",
   "name": "python3"
  },
  "language_info": {
   "codemirror_mode": {
    "name": "ipython",
    "version": 3
   },
   "file_extension": ".py",
   "mimetype": "text/x-python",
   "name": "python",
   "nbconvert_exporter": "python",
   "pygments_lexer": "ipython3",
   "version": "3.9.7"
  },
  "orig_nbformat": 4
 },
 "nbformat": 4,
 "nbformat_minor": 2
}
