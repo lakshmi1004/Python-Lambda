{
 "cells": [
  {
   "cell_type": "code",
   "execution_count": 23,
   "metadata": {},
   "outputs": [
    {
     "name": "stdout",
     "output_type": "stream",
     "text": [
      "['job_title, Data Scientist', 'start_date,10/04/2000', 'finish_date,10/04/2000']\n",
      "{None}\n"
     ]
    }
   ],
   "source": [
    "def job(list,job_title, start_date, finish_date ):\n",
    "    job_title = 'Data Scientist'\n",
    "    start_date = '10/04/2000' \n",
    "    finish_date = '10/05/2010'\n",
    "    \n",
    "#Create a list with these 3 arguments in order and call the function by UNPACKING the list into it as arguments\n",
    "    list = []\n",
    "    list.extend(['job_title, Data Scientist'])\n",
    "    list.extend(['start_date,10/04/2000'])\n",
    "    list.extend(['finish_date,10/04/2000'])\n",
    "    ['start_date,10/04/2000'],['finish_date,10/04/2000']\n",
    "    print(list)\n",
    "\n",
    "list1 = job(list,'doc','10/4/2000','10/04/2004')\n"
   ]
  },
  {
   "cell_type": "code",
   "execution_count": null,
   "metadata": {},
   "outputs": [],
   "source": [
    "dic_list = {job_title : 'Data Scientist',\n",
    "    start_date : '10/04/2000' ,\n",
    "    finish_date :'10/05/2010'}\n",
    "    dic_list.items()\n"
   ]
  }
 ],
 "metadata": {
  "interpreter": {
   "hash": "39d388ca1b04e1a174574da37708eb359a2bcdc8ec40a682dcfb85d2b414fb91"
  },
  "kernelspec": {
   "display_name": "Python 3.9.7 ('p1')",
   "language": "python",
   "name": "python3"
  },
  "language_info": {
   "codemirror_mode": {
    "name": "ipython",
    "version": 3
   },
   "file_extension": ".py",
   "mimetype": "text/x-python",
   "name": "python",
   "nbconvert_exporter": "python",
   "pygments_lexer": "ipython3",
   "version": "3.9.7"
  },
  "orig_nbformat": 4
 },
 "nbformat": 4,
 "nbformat_minor": 2
}
